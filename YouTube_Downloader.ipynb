#@title 🎬 YouTube Downloader Menu (Video & Audio)
#@markdown ### 1. Paste the YouTube video link below:
video_url = "" #@param {type:"string"}

#@markdown ---
#@markdown ### 2. Choose your desired quality:
quality = "720p" #@param ["best", "1080p", "720p", "480p", "360p", "worst", "audio_only"]
#@markdown ---
#@markdown ### 3. Click the Play Button (▶️) on the left to start.

# -------------------- DO NOT EDIT THE CODE BELOW --------------------

# 1. Install/update yt-dlp quietly
!pip install -U yt-dlp --quiet

# 2. Import necessary libraries
from google.colab import drive
import os

# 3. Mount Google Drive
try:
    drive.mount('/content/drive', force_remount=True)
except Exception as e:
    print(f"Error mounting drive: {e}")


# 4. Validate input and process the download
if not video_url or not video_url.startswith("http"):
    print("❌ ERROR: Please paste a valid YouTube URL in the 'video_url' field and run again.")
else:
    # Define the save directory
    save_directory = "/content/drive/My Drive/YouTubeDownloads"
    if not os.path.exists(save_directory):
        os.makedirs(save_directory)

    # --- Logic to handle AUDIO or VIDEO download ---

    if quality == "audio_only":
        # This block handles the audio download
        print(f"✅ Starting audio extraction...")
        print(f"   ▷ URL: {video_url}")
        print(f"   ▷ Quality: Best Audio (MP3)")

        # Command to extract best audio and convert to mp3
        command = f'yt-dlp -x --audio-format mp3 --no-warnings -q -P "{save_directory}" "{video_url}"'
        !{command}
        print(f"\n✅ Audio download complete!")

    else:
        # This block handles all video downloads
        if quality == "best":
            format_code = "bestvideo[ext=mp4]+bestaudio[ext=m4a]/best[ext=to_run=mp4]/best"
        elif quality == "worst":
            format_code = "worstvideo[ext=mp4]+worstaudio[ext=m4a]/worst[ext=mp4]/worst"
        else:
            resolution = quality.replace('p', '')
            format_code = f"bestvideo[height<={resolution}][ext=mp4]+bestaudio[ext=m4a]/best[ext=mp4]/best"

        print(f"✅ Starting video download...")
        print(f"   ▷ URL: {video_url}")
        print(f"   ▷ Quality: {quality}")

        # Command to download and merge video/audio
        command = f'yt-dlp -f "{format_code}" --merge-output-format mp4 --no-warnings -q -P "{save_directory}" "{video_url}"'
        !{command}
        print(f"\n✅ Video download complete!")

    print(f"   ▷ Your file has been saved to the '{save_directory}' folder in your Google Drive.")
