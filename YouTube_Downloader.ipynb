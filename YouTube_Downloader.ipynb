{
  "nbformat": 4,
  "nbformat_minor": 0,
  "metadata": {
    "colab": {
      "provenance": []
    },
    "kernelspec": {
      "name": "python3",
      "display_name": "Python 3"
    },
    "language_info": {
      "name": "python"
    }
  },
  "cells": [
    {
      "cell_type": "code",
      "execution_count": 1,
      "metadata": {
        "colab": {
          "base_uri": "https://localhost:8080/"
        },
        "id": "u6t5xg3qiCRj",
        "outputId": "06216f75-1f77-4739-c40c-98de7598e3f5"
      },
      "outputs": [
        {
          "output_type": "stream",
          "name": "stdout",
          "text": [
            "\u001b[2K     \u001b[90m━━━━━━━━━━━━━━━━━━━━━━━━━━━━━━━━━━━━━━━\u001b[0m \u001b[32m175.9/175.9 kB\u001b[0m \u001b[31m3.1 MB/s\u001b[0m eta \u001b[36m0:00:00\u001b[0m\n",
            "\u001b[2K   \u001b[90m━━━━━━━━━━━━━━━━━━━━━━━━━━━━━━━━━━━━━━━━\u001b[0m \u001b[32m3.2/3.2 MB\u001b[0m \u001b[31m31.9 MB/s\u001b[0m eta \u001b[36m0:00:00\u001b[0m\n",
            "\u001b[?25hError mounting drive: Error: credential propagation was unsuccessful\n",
            "❌ ERROR: Please paste a valid YouTube URL in the 'video_url' field and run again.\n"
          ]
        }
      ],
      "source": [
        "#@title 🎬 YouTube Downloader Menu (Video & Audio)\n",
        "#@markdown ### 1. Paste the YouTube video link below:\n",
        "video_url = \"\" #@param {type:\"string\"}\n",
        "\n",
        "#@markdown ---\n",
        "#@markdown ### 2. Choose your desired quality:\n",
        "quality = \"720p\" #@param [\"best\", \"1080p\", \"720p\", \"480p\", \"360p\", \"worst\", \"audio_only\"]\n",
        "#@markdown ---\n",
        "#@markdown ### 3. Click the Play Button (▶️) on the left to start.\n",
        "\n",
        "# -------------------- DO NOT EDIT THE CODE BELOW --------------------\n",
        "\n",
        "# 1. Install/update yt-dlp quietly\n",
        "!pip install -U yt-dlp --quiet\n",
        "\n",
        "# 2. Import necessary libraries\n",
        "from google.colab import drive\n",
        "import os\n",
        "\n",
        "# 3. Mount Google Drive\n",
        "try:\n",
        "    drive.mount('/content/drive', force_remount=True)\n",
        "except Exception as e:\n",
        "    print(f\"Error mounting drive: {e}\")\n",
        "\n",
        "\n",
        "# 4. Validate input and process the download\n",
        "if not video_url or not video_url.startswith(\"http\"):\n",
        "    print(\"❌ ERROR: Please paste a valid YouTube URL in the 'video_url' field and run again.\")\n",
        "else:\n",
        "    # Define the save directory\n",
        "    save_directory = \"/content/drive/My Drive/YouTubeDownloads\"\n",
        "    if not os.path.exists(save_directory):\n",
        "        os.makedirs(save_directory)\n",
        "\n",
        "    # --- Logic to handle AUDIO or VIDEO download ---\n",
        "\n",
        "    if quality == \"audio_only\":\n",
        "        # This block handles the audio download\n",
        "        print(f\"✅ Starting audio extraction...\")\n",
        "        print(f\"   ▷ URL: {video_url}\")\n",
        "        print(f\"   ▷ Quality: Best Audio (MP3)\")\n",
        "        command = f'yt-dlp -x --audio-format mp3 --no-warnings -q -P \"{save_directory}\" \"{video_url}\"'\n",
        "        !{command}\n",
        "        print(f\"\\n✅ Audio download complete!\")\n",
        "\n",
        "    else:\n",
        "        # This block handles all video downloads\n",
        "        if quality == \"best\":\n",
        "            format_code = \"bestvideo[ext=mp4]+bestaudio[ext=m4a]/best[ext=mp4]/best\"\n",
        "        elif quality == \"worst\":\n",
        "            format_code = \"worstvideo[ext=mp4]+worstaudio[ext=m4a]/worst[ext=mp4]/worst\"\n",
        "        else:\n",
        "            resolution = quality.replace('p', '')\n",
        "            format_code = f\"bestvideo[height<={resolution}][ext=mp4]+bestaudio[ext=m4a]/best[ext=mp4]/best\"\n",
        "\n",
        "        print(f\"✅ Starting video download...\")\n",
        "        print(f\"   ▷ URL: {video_url}\")\n",
        "        print(f\"   ▷ Quality: {quality}\")\n",
        "        command = f'yt-dlp -f \"{format_code}\" --merge-output-format mp4 --no-warnings -q -P \"{save_directory}\" \"{video_url}\"'\n",
        "        !{command}\n",
        "        print(f\"\\n✅ Video download complete!\")\n",
        "\n",
        "    print(f\"   ▷ Your file has been saved to the '{save_directory}' folder in your Google Drive.\")"
      ]
    }
  ]
}